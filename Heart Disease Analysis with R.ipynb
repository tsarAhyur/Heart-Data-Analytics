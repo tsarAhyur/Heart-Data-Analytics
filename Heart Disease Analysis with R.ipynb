{
 "cells": [
  {
   "cell_type": "code",
   "execution_count": 1,
   "id": "8d6faa7b",
   "metadata": {
    "scrolled": true
   },
   "outputs": [
    {
     "ename": "ERROR",
     "evalue": "Error in parse(text = x, srcfile = src): <text>:1:9: unexpected symbol\n1: Loading libraries\n            ^\n",
     "output_type": "error",
     "traceback": [
      "Error in parse(text = x, srcfile = src): <text>:1:9: unexpected symbol\n1: Loading libraries\n            ^\nTraceback:\n"
     ]
    }
   ],
   "source": [
    "Loading libraries"
   ]
  },
  {
   "cell_type": "code",
   "execution_count": 2,
   "id": "c7a861e7",
   "metadata": {},
   "outputs": [
    {
     "ename": "ERROR",
     "evalue": "Error in parse(text = x, srcfile = src): <text>:1:9: unexpected symbol\n1: Loading libraries\n            ^\n",
     "output_type": "error",
     "traceback": [
      "Error in parse(text = x, srcfile = src): <text>:1:9: unexpected symbol\n1: Loading libraries\n            ^\nTraceback:\n"
     ]
    }
   ],
   "source": [
    "Loading libraries"
   ]
  },
  {
   "cell_type": "markdown",
   "id": "1d790d54",
   "metadata": {},
   "source": [
    "# Loading liraries\n",
    "library(tidyverse)"
   ]
  },
  {
   "cell_type": "code",
   "execution_count": 1,
   "id": "59193917",
   "metadata": {},
   "outputs": [
    {
     "name": "stderr",
     "output_type": "stream",
     "text": [
      "Registered S3 methods overwritten by 'ggplot2':\n",
      "  method         from \n",
      "  [.quosures     rlang\n",
      "  c.quosures     rlang\n",
      "  print.quosures rlang\n",
      "Registered S3 method overwritten by 'rvest':\n",
      "  method            from\n",
      "  read_xml.response xml2\n",
      "-- Attaching packages --------------------------------------- tidyverse 1.2.1 --\n",
      "v ggplot2 3.1.1       v purrr   0.3.2  \n",
      "v tibble  2.1.1       v dplyr   0.8.0.1\n",
      "v tidyr   0.8.3       v stringr 1.4.0  \n",
      "v readr   1.3.1       v forcats 0.4.0  \n",
      "-- Conflicts ------------------------------------------ tidyverse_conflicts() --\n",
      "x dplyr::filter() masks stats::filter()\n",
      "x dplyr::lag()    masks stats::lag()\n"
     ]
    }
   ],
   "source": [
    "library(tidyverse)"
   ]
  },
  {
   "cell_type": "code",
   "execution_count": 2,
   "id": "40a9ca10",
   "metadata": {},
   "outputs": [],
   "source": [
    "data <- read.csv(\"heart.csv\")"
   ]
  },
  {
   "cell_type": "code",
   "execution_count": 3,
   "id": "a627381d",
   "metadata": {},
   "outputs": [
    {
     "name": "stderr",
     "output_type": "stream",
     "text": [
      "Warning message in data(head):\n",
      "\"data set 'head' not found\""
     ]
    }
   ],
   "source": [
    "data(head)"
   ]
  },
  {
   "cell_type": "code",
   "execution_count": 4,
   "id": "befe7c6f",
   "metadata": {},
   "outputs": [
    {
     "data": {
      "text/html": [
       "<table>\n",
       "<thead><tr><th scope=col>ï..age</th><th scope=col>sex</th><th scope=col>cp</th><th scope=col>trestbps</th><th scope=col>chol</th><th scope=col>fbs</th><th scope=col>restecg</th><th scope=col>thalach</th><th scope=col>exang</th><th scope=col>oldpeak</th><th scope=col>slope</th><th scope=col>ca</th><th scope=col>thal</th><th scope=col>target</th></tr></thead>\n",
       "<tbody>\n",
       "\t<tr><td>63 </td><td>1  </td><td>3  </td><td>145</td><td>233</td><td>1  </td><td>0  </td><td>150</td><td>0  </td><td>2.3</td><td>0  </td><td>0  </td><td>1  </td><td>1  </td></tr>\n",
       "\t<tr><td>37 </td><td>1  </td><td>2  </td><td>130</td><td>250</td><td>0  </td><td>1  </td><td>187</td><td>0  </td><td>3.5</td><td>0  </td><td>0  </td><td>2  </td><td>1  </td></tr>\n",
       "\t<tr><td>41 </td><td>0  </td><td>1  </td><td>130</td><td>204</td><td>0  </td><td>0  </td><td>172</td><td>0  </td><td>1.4</td><td>2  </td><td>0  </td><td>2  </td><td>1  </td></tr>\n",
       "\t<tr><td>56 </td><td>1  </td><td>1  </td><td>120</td><td>236</td><td>0  </td><td>1  </td><td>178</td><td>0  </td><td>0.8</td><td>2  </td><td>0  </td><td>2  </td><td>1  </td></tr>\n",
       "\t<tr><td>57 </td><td>0  </td><td>0  </td><td>120</td><td>354</td><td>0  </td><td>1  </td><td>163</td><td>1  </td><td>0.6</td><td>2  </td><td>0  </td><td>2  </td><td>1  </td></tr>\n",
       "\t<tr><td>57 </td><td>1  </td><td>0  </td><td>140</td><td>192</td><td>0  </td><td>1  </td><td>148</td><td>0  </td><td>0.4</td><td>1  </td><td>0  </td><td>1  </td><td>1  </td></tr>\n",
       "</tbody>\n",
       "</table>\n"
      ],
      "text/latex": [
       "\\begin{tabular}{r|llllllllllllll}\n",
       " ï..age & sex & cp & trestbps & chol & fbs & restecg & thalach & exang & oldpeak & slope & ca & thal & target\\\\\n",
       "\\hline\n",
       "\t 63  & 1   & 3   & 145 & 233 & 1   & 0   & 150 & 0   & 2.3 & 0   & 0   & 1   & 1  \\\\\n",
       "\t 37  & 1   & 2   & 130 & 250 & 0   & 1   & 187 & 0   & 3.5 & 0   & 0   & 2   & 1  \\\\\n",
       "\t 41  & 0   & 1   & 130 & 204 & 0   & 0   & 172 & 0   & 1.4 & 2   & 0   & 2   & 1  \\\\\n",
       "\t 56  & 1   & 1   & 120 & 236 & 0   & 1   & 178 & 0   & 0.8 & 2   & 0   & 2   & 1  \\\\\n",
       "\t 57  & 0   & 0   & 120 & 354 & 0   & 1   & 163 & 1   & 0.6 & 2   & 0   & 2   & 1  \\\\\n",
       "\t 57  & 1   & 0   & 140 & 192 & 0   & 1   & 148 & 0   & 0.4 & 1   & 0   & 1   & 1  \\\\\n",
       "\\end{tabular}\n"
      ],
      "text/markdown": [
       "\n",
       "| ï..age | sex | cp | trestbps | chol | fbs | restecg | thalach | exang | oldpeak | slope | ca | thal | target |\n",
       "|---|---|---|---|---|---|---|---|---|---|---|---|---|---|\n",
       "| 63  | 1   | 3   | 145 | 233 | 1   | 0   | 150 | 0   | 2.3 | 0   | 0   | 1   | 1   |\n",
       "| 37  | 1   | 2   | 130 | 250 | 0   | 1   | 187 | 0   | 3.5 | 0   | 0   | 2   | 1   |\n",
       "| 41  | 0   | 1   | 130 | 204 | 0   | 0   | 172 | 0   | 1.4 | 2   | 0   | 2   | 1   |\n",
       "| 56  | 1   | 1   | 120 | 236 | 0   | 1   | 178 | 0   | 0.8 | 2   | 0   | 2   | 1   |\n",
       "| 57  | 0   | 0   | 120 | 354 | 0   | 1   | 163 | 1   | 0.6 | 2   | 0   | 2   | 1   |\n",
       "| 57  | 1   | 0   | 140 | 192 | 0   | 1   | 148 | 0   | 0.4 | 1   | 0   | 1   | 1   |\n",
       "\n"
      ],
      "text/plain": [
       "  ï..age sex cp trestbps chol fbs restecg thalach exang oldpeak slope ca thal\n",
       "1 63     1   3  145      233  1   0       150     0     2.3     0     0  1   \n",
       "2 37     1   2  130      250  0   1       187     0     3.5     0     0  2   \n",
       "3 41     0   1  130      204  0   0       172     0     1.4     2     0  2   \n",
       "4 56     1   1  120      236  0   1       178     0     0.8     2     0  2   \n",
       "5 57     0   0  120      354  0   1       163     1     0.6     2     0  2   \n",
       "6 57     1   0  140      192  0   1       148     0     0.4     1     0  1   \n",
       "  target\n",
       "1 1     \n",
       "2 1     \n",
       "3 1     \n",
       "4 1     \n",
       "5 1     \n",
       "6 1     "
      ]
     },
     "metadata": {},
     "output_type": "display_data"
    }
   ],
   "source": [
    "head(data)"
   ]
  },
  {
   "cell_type": "code",
   "execution_count": 5,
   "id": "0b9886b5",
   "metadata": {},
   "outputs": [
    {
     "name": "stdout",
     "output_type": "stream",
     "text": [
      "Observations: 303\n",
      "Variables: 14\n",
      "$ ï..age   <int> 63, 37, 41, 56, 57, 57, 56, 44, 52, 57, 54, 48, 49, 64, 58...\n",
      "$ sex      <int> 1, 1, 0, 1, 0, 1, 0, 1, 1, 1, 1, 0, 1, 1, 0, 0, 0, 0, 1, 0...\n",
      "$ cp       <int> 3, 2, 1, 1, 0, 0, 1, 1, 2, 2, 0, 2, 1, 3, 3, 2, 2, 3, 0, 3...\n",
      "$ trestbps <int> 145, 130, 130, 120, 120, 140, 140, 120, 172, 150, 140, 130...\n",
      "$ chol     <int> 233, 250, 204, 236, 354, 192, 294, 263, 199, 168, 239, 275...\n",
      "$ fbs      <int> 1, 0, 0, 0, 0, 0, 0, 0, 1, 0, 0, 0, 0, 0, 1, 0, 0, 0, 0, 0...\n",
      "$ restecg  <int> 0, 1, 0, 1, 1, 1, 0, 1, 1, 1, 1, 1, 1, 0, 0, 1, 1, 1, 1, 1...\n",
      "$ thalach  <int> 150, 187, 172, 178, 163, 148, 153, 173, 162, 174, 160, 139...\n",
      "$ exang    <int> 0, 0, 0, 0, 1, 0, 0, 0, 0, 0, 0, 0, 0, 1, 0, 0, 0, 0, 0, 0...\n",
      "$ oldpeak  <dbl> 2.3, 3.5, 1.4, 0.8, 0.6, 0.4, 1.3, 0.0, 0.5, 1.6, 1.2, 0.2...\n",
      "$ slope    <int> 0, 0, 2, 2, 2, 1, 1, 2, 2, 2, 2, 2, 2, 1, 2, 1, 2, 0, 2, 2...\n",
      "$ ca       <int> 0, 0, 0, 0, 0, 0, 0, 0, 0, 0, 0, 0, 0, 0, 0, 0, 0, 0, 0, 2...\n",
      "$ thal     <int> 1, 2, 2, 2, 2, 1, 2, 3, 3, 2, 2, 2, 2, 2, 2, 2, 2, 2, 2, 2...\n",
      "$ target   <int> 1, 1, 1, 1, 1, 1, 1, 1, 1, 1, 1, 1, 1, 1, 1, 1, 1, 1, 1, 1...\n"
     ]
    }
   ],
   "source": [
    "glimpse(data)"
   ]
  },
  {
   "cell_type": "code",
   "execution_count": 7,
   "id": "552ec86a",
   "metadata": {
    "scrolled": false
   },
   "outputs": [
    {
     "data": {
      "text/html": [
       "<table>\n",
       "<thead><tr><th></th><th scope=col>ï..age</th><th scope=col>sex</th><th scope=col>cp</th><th scope=col>trestbps</th><th scope=col>chol</th><th scope=col>fbs</th><th scope=col>restecg</th><th scope=col>thalach</th><th scope=col>exang</th><th scope=col>oldpeak</th><th scope=col>slope</th><th scope=col>ca</th><th scope=col>thal</th><th scope=col>target</th></tr></thead>\n",
       "<tbody>\n",
       "\t<tr><th scope=row>298</th><td>59 </td><td>1  </td><td>0  </td><td>164</td><td>176</td><td>1  </td><td>0  </td><td> 90</td><td>0  </td><td>1.0</td><td>1  </td><td>2  </td><td>1  </td><td>0  </td></tr>\n",
       "\t<tr><th scope=row>299</th><td>57 </td><td>0  </td><td>0  </td><td>140</td><td>241</td><td>0  </td><td>1  </td><td>123</td><td>1  </td><td>0.2</td><td>1  </td><td>0  </td><td>3  </td><td>0  </td></tr>\n",
       "\t<tr><th scope=row>300</th><td>45 </td><td>1  </td><td>3  </td><td>110</td><td>264</td><td>0  </td><td>1  </td><td>132</td><td>0  </td><td>1.2</td><td>1  </td><td>0  </td><td>3  </td><td>0  </td></tr>\n",
       "\t<tr><th scope=row>301</th><td>68 </td><td>1  </td><td>0  </td><td>144</td><td>193</td><td>1  </td><td>1  </td><td>141</td><td>0  </td><td>3.4</td><td>1  </td><td>2  </td><td>3  </td><td>0  </td></tr>\n",
       "\t<tr><th scope=row>302</th><td>57 </td><td>1  </td><td>0  </td><td>130</td><td>131</td><td>0  </td><td>1  </td><td>115</td><td>1  </td><td>1.2</td><td>1  </td><td>1  </td><td>3  </td><td>0  </td></tr>\n",
       "\t<tr><th scope=row>303</th><td>57 </td><td>0  </td><td>1  </td><td>130</td><td>236</td><td>0  </td><td>0  </td><td>174</td><td>0  </td><td>0.0</td><td>1  </td><td>1  </td><td>2  </td><td>0  </td></tr>\n",
       "</tbody>\n",
       "</table>\n"
      ],
      "text/latex": [
       "\\begin{tabular}{r|llllllllllllll}\n",
       "  & ï..age & sex & cp & trestbps & chol & fbs & restecg & thalach & exang & oldpeak & slope & ca & thal & target\\\\\n",
       "\\hline\n",
       "\t298 & 59  & 1   & 0   & 164 & 176 & 1   & 0   &  90 & 0   & 1.0 & 1   & 2   & 1   & 0  \\\\\n",
       "\t299 & 57  & 0   & 0   & 140 & 241 & 0   & 1   & 123 & 1   & 0.2 & 1   & 0   & 3   & 0  \\\\\n",
       "\t300 & 45  & 1   & 3   & 110 & 264 & 0   & 1   & 132 & 0   & 1.2 & 1   & 0   & 3   & 0  \\\\\n",
       "\t301 & 68  & 1   & 0   & 144 & 193 & 1   & 1   & 141 & 0   & 3.4 & 1   & 2   & 3   & 0  \\\\\n",
       "\t302 & 57  & 1   & 0   & 130 & 131 & 0   & 1   & 115 & 1   & 1.2 & 1   & 1   & 3   & 0  \\\\\n",
       "\t303 & 57  & 0   & 1   & 130 & 236 & 0   & 0   & 174 & 0   & 0.0 & 1   & 1   & 2   & 0  \\\\\n",
       "\\end{tabular}\n"
      ],
      "text/markdown": [
       "\n",
       "| <!--/--> | ï..age | sex | cp | trestbps | chol | fbs | restecg | thalach | exang | oldpeak | slope | ca | thal | target |\n",
       "|---|---|---|---|---|---|---|---|---|---|---|---|---|---|---|\n",
       "| 298 | 59  | 1   | 0   | 164 | 176 | 1   | 0   |  90 | 0   | 1.0 | 1   | 2   | 1   | 0   |\n",
       "| 299 | 57  | 0   | 0   | 140 | 241 | 0   | 1   | 123 | 1   | 0.2 | 1   | 0   | 3   | 0   |\n",
       "| 300 | 45  | 1   | 3   | 110 | 264 | 0   | 1   | 132 | 0   | 1.2 | 1   | 0   | 3   | 0   |\n",
       "| 301 | 68  | 1   | 0   | 144 | 193 | 1   | 1   | 141 | 0   | 3.4 | 1   | 2   | 3   | 0   |\n",
       "| 302 | 57  | 1   | 0   | 130 | 131 | 0   | 1   | 115 | 1   | 1.2 | 1   | 1   | 3   | 0   |\n",
       "| 303 | 57  | 0   | 1   | 130 | 236 | 0   | 0   | 174 | 0   | 0.0 | 1   | 1   | 2   | 0   |\n",
       "\n"
      ],
      "text/plain": [
       "    ï..age sex cp trestbps chol fbs restecg thalach exang oldpeak slope ca thal\n",
       "298 59     1   0  164      176  1   0        90     0     1.0     1     2  1   \n",
       "299 57     0   0  140      241  0   1       123     1     0.2     1     0  3   \n",
       "300 45     1   3  110      264  0   1       132     0     1.2     1     0  3   \n",
       "301 68     1   0  144      193  1   1       141     0     3.4     1     2  3   \n",
       "302 57     1   0  130      131  0   1       115     1     1.2     1     1  3   \n",
       "303 57     0   1  130      236  0   0       174     0     0.0     1     1  2   \n",
       "    target\n",
       "298 0     \n",
       "299 0     \n",
       "300 0     \n",
       "301 0     \n",
       "302 0     \n",
       "303 0     "
      ]
     },
     "metadata": {},
     "output_type": "display_data"
    },
    {
     "data": {
      "text/html": [
       "14"
      ],
      "text/latex": [
       "14"
      ],
      "text/markdown": [
       "14"
      ],
      "text/plain": [
       "[1] 14"
      ]
     },
     "metadata": {},
     "output_type": "display_data"
    }
   ],
   "source": [
    "tail(data)\n",
    "ncol(data)"
   ]
  },
  {
   "cell_type": "code",
   "execution_count": 11,
   "id": "adf742ce",
   "metadata": {},
   "outputs": [
    {
     "data": {
      "text/plain": [
       "     ï..age           sex               cp           trestbps    \n",
       " Min.   :29.00   Min.   :0.0000   Min.   :0.000   Min.   : 94.0  \n",
       " 1st Qu.:47.50   1st Qu.:0.0000   1st Qu.:0.000   1st Qu.:120.0  \n",
       " Median :55.00   Median :1.0000   Median :1.000   Median :130.0  \n",
       " Mean   :54.37   Mean   :0.6832   Mean   :0.967   Mean   :131.6  \n",
       " 3rd Qu.:61.00   3rd Qu.:1.0000   3rd Qu.:2.000   3rd Qu.:140.0  \n",
       " Max.   :77.00   Max.   :1.0000   Max.   :3.000   Max.   :200.0  \n",
       "      chol            fbs            restecg          thalach     \n",
       " Min.   :126.0   Min.   :0.0000   Min.   :0.0000   Min.   : 71.0  \n",
       " 1st Qu.:211.0   1st Qu.:0.0000   1st Qu.:0.0000   1st Qu.:133.5  \n",
       " Median :240.0   Median :0.0000   Median :1.0000   Median :153.0  \n",
       " Mean   :246.3   Mean   :0.1485   Mean   :0.5281   Mean   :149.6  \n",
       " 3rd Qu.:274.5   3rd Qu.:0.0000   3rd Qu.:1.0000   3rd Qu.:166.0  \n",
       " Max.   :564.0   Max.   :1.0000   Max.   :2.0000   Max.   :202.0  \n",
       "     exang           oldpeak         slope             ca        \n",
       " Min.   :0.0000   Min.   :0.00   Min.   :0.000   Min.   :0.0000  \n",
       " 1st Qu.:0.0000   1st Qu.:0.00   1st Qu.:1.000   1st Qu.:0.0000  \n",
       " Median :0.0000   Median :0.80   Median :1.000   Median :0.0000  \n",
       " Mean   :0.3267   Mean   :1.04   Mean   :1.399   Mean   :0.7294  \n",
       " 3rd Qu.:1.0000   3rd Qu.:1.60   3rd Qu.:2.000   3rd Qu.:1.0000  \n",
       " Max.   :1.0000   Max.   :6.20   Max.   :2.000   Max.   :4.0000  \n",
       "      thal           target      \n",
       " Min.   :0.000   Min.   :0.0000  \n",
       " 1st Qu.:2.000   1st Qu.:0.0000  \n",
       " Median :2.000   Median :1.0000  \n",
       " Mean   :2.314   Mean   :0.5446  \n",
       " 3rd Qu.:3.000   3rd Qu.:1.0000  \n",
       " Max.   :3.000   Max.   :1.0000  "
      ]
     },
     "metadata": {},
     "output_type": "display_data"
    }
   ],
   "source": [
    "summary(data)"
   ]
  },
  {
   "cell_type": "code",
   "execution_count": 15,
   "id": "35c5679c",
   "metadata": {},
   "outputs": [],
   "source": [
    "#Data transformation\n",
    "data2 <- data %>%\n",
    "    mutate(sex = if_else(sex == 1, \"MALE\", \"FEMALE\"),\n",
    "           fbs = if_else(fbs == 1, \">120\", \"<=120\"),\n",
    "           exang = if_else(exang == 1, \"YES\", \"NO\"),\n",
    "           cp = if_else(cp == 1, \"ATYPICAL ANGINA\",\n",
    "                       if_else(cp == 2, \"NON-ANGINAL PAIN\", \"ASYMPTOMATIC\")),\n",
    "           restecg = if_else(restecg == 0, \"NORMAL\",\n",
    "                            if_else(restecg == 1, \"ABNORMALITY\", \"PROBABLE OR DEFINITE\")),\n",
    "           slope = as.factor(slope),\n",
    "           ca = as.factor(ca),\n",
    "           thal = as.factor(thal),\n",
    "           target = if_else(target == 1, \"YES\", \"NO\"),\n",
    "          ) %>%\n",
    "    mutate_if(is.character, as.factor) %>%\n",
    "    dplyr::select(target, sex, fbs, exang, cp, restecg, slope, thal, ca, everything())"
   ]
  },
  {
   "cell_type": "code",
   "execution_count": 16,
   "id": "ca72c6d6",
   "metadata": {},
   "outputs": [],
   "source": [
    "#Visualizing our data"
   ]
  },
  {
   "cell_type": "code",
   "execution_count": 20,
   "id": "6b3eda73",
   "metadata": {},
   "outputs": [
    {
     "data": {
      "image/png": "[encoded data removed]",
      "text/plain": [
       "plot without title"
      ]
     },
     "metadata": {},
     "output_type": "display_data"
    }
   ],
   "source": [
    "#Creating a bar plot fo the data\n",
    "ggplot(data2, aes(x=data$target, fill=data2$target))+\n",
    "    geom_bar()+\n",
    "    xlab(\"Heart disease\")+\n",
    "    ylab(\"count\")+\n",
    "    ggtitle(\"Presence and absence of heart disease\")+\n",
    "    scale_fill_discrete(name=\"Heart disease\", labels =c(\"Absence\", \"Presence\"))"
   ]
  },
  {
   "cell_type": "code",
   "execution_count": 21,
   "id": "0cfe1d86",
   "metadata": {},
   "outputs": [
    {
     "data": {
      "text/plain": [
       "\n",
       "       NO       YES \n",
       "0.4554455 0.5445545 "
      ]
     },
     "metadata": {},
     "output_type": "display_data"
    }
   ],
   "source": [
    "prop.table(table(data2$target))"
   ]
  },
  {
   "cell_type": "code",
   "execution_count": 7,
   "id": "161cfb03",
   "metadata": {},
   "outputs": [
    {
     "ename": "ERROR",
     "evalue": "Error in data2 %>% group_by(ï..age) %>% count() %>% filter(n > 10) %>% : could not find function \"%>%\"\n",
     "output_type": "error",
     "traceback": [
      "Error in data2 %>% group_by(ï..age) %>% count() %>% filter(n > 10) %>% : could not find function \"%>%\"\nTraceback:\n"
     ]
    }
   ],
   "source": [
    "#counting the frequency value of age\n",
    "\n",
    "data2 %>%\n",
    "  group_by(ï..age) %>%\n",
    "  count() %>%\n",
    "  filter(n>10) %>%\n",
    "  ggplot()+\n",
    "  geom_col(aes(ï..age, n), fill = 'blue')+\n",
    "  ggtitle(\"Age analysis\")+\n",
    "  xlab(\"Age\")+\n",
    "  ylab(\"Age Count\")"
   ]
  },
  {
   "cell_type": "code",
   "execution_count": 11,
   "id": "e97de0c2",
   "metadata": {},
   "outputs": [
    {
     "ename": "ERROR",
     "evalue": "Error in ggplot(., aes(x = sex, y = trestbps)): could not find function \"ggplot\"\n",
     "output_type": "error",
     "traceback": [
      "Error in ggplot(., aes(x = sex, y = trestbps)): could not find function \"ggplot\"\nTraceback:\n",
      "1. data2 %>% ggplot(aes(x = sex, y = trestbps))"
     ]
    }
   ],
   "source": [
    "data2 %>%\n",
    "  ggplot(aes(x=sex, y=trestbps))+\n",
    "  geom_boxplot(fill ='purple')+\n",
    "  xlab('sex')+\n",
    "  ylab('BP')+\n",
    "  facet_grid(~cp)"
   ]
  },
  {
   "cell_type": "code",
   "execution_count": 9,
   "id": "d22070b5",
   "metadata": {},
   "outputs": [
    {
     "name": "stdout",
     "output_type": "stream",
     "text": [
      "\n",
      "  There is a binary version available but the source version is later:\n",
      "         binary source needs_compilation\n",
      "magrittr  2.0.1  2.0.3              TRUE\n",
      "\n",
      "  Binaries will be installed\n",
      "package 'magrittr' successfully unpacked and MD5 sums checked\n",
      "\n",
      "The downloaded binary packages are in\n",
      "\tC:\\Users\\USER\\AppData\\Local\\Temp\\RtmpYvL3Tp\\downloaded_packages\n"
     ]
    }
   ],
   "source": [
    "install.packages(\"magrittr\")"
   ]
  },
  {
   "cell_type": "code",
   "execution_count": 10,
   "id": "47095f55",
   "metadata": {},
   "outputs": [
    {
     "name": "stderr",
     "output_type": "stream",
     "text": [
      "Warning message:\n",
      "\"package 'magrittr' was built under R version 3.6.3\""
     ]
    }
   ],
   "source": [
    "library(magrittr)"
   ]
  },
  {
   "cell_type": "code",
   "execution_count": 14,
   "id": "495ff8c4",
   "metadata": {},
   "outputs": [
    {
     "name": "stderr",
     "output_type": "stream",
     "text": [
      "Warning message:\n",
      "\"package 'ggplot' is not available (for R version 3.6.1)\""
     ]
    }
   ],
   "source": [
    "install.packages(\"ggplot\")"
   ]
  },
  {
   "cell_type": "code",
   "execution_count": 15,
   "id": "201f665c",
   "metadata": {},
   "outputs": [
    {
     "ename": "ERROR",
     "evalue": "Error in ggplot(., aes(x = sex, y = trestbps)): could not find function \"ggplot\"\n",
     "output_type": "error",
     "traceback": [
      "Error in ggplot(., aes(x = sex, y = trestbps)): could not find function \"ggplot\"\nTraceback:\n",
      "1. data2 %>% ggplot(aes(x = sex, y = trestbps))"
     ]
    }
   ],
   "source": [
    "data2 %>%\n",
    "  ggplot(aes(x=sex, y=trestbps))+\n",
    "  geom_boxplot(fill ='purple')+\n",
    "  xlab('sex')+\n",
    "  ylab('BP')+\n",
    "  facet_grid(~cp)"
   ]
  },
  {
   "cell_type": "code",
   "execution_count": 16,
   "id": "ef287e8b",
   "metadata": {},
   "outputs": [
    {
     "ename": "ERROR",
     "evalue": "Error in ggplot(., aes(x = sex, y = chol)): could not find function \"ggplot\"\n",
     "output_type": "error",
     "traceback": [
      "Error in ggplot(., aes(x = sex, y = chol)): could not find function \"ggplot\"\nTraceback:\n",
      "1. data2 %>% ggplot(aes(x = sex, y = chol))"
     ]
    }
   ],
   "source": [
    "data2 %>%\n",
    "  ggplot(aes(x=sex, y=chol))+\n",
    "  geom_boxplot(fill ='blue')+\n",
    "  xlab('sex')+\n",
    "  ylab('Chol')+\n",
    "  facet_grid(~cp)"
   ]
  },
  {
   "cell_type": "code",
   "execution_count": 17,
   "id": "8087bf6e",
   "metadata": {},
   "outputs": [
    {
     "ename": "ERROR",
     "evalue": "Error in parse(text = x, srcfile = src): <text>:1:8: unexpected symbol\n1: import sys\n           ^\n",
     "output_type": "error",
     "traceback": [
      "Error in parse(text = x, srcfile = src): <text>:1:8: unexpected symbol\n1: import sys\n           ^\nTraceback:\n"
     ]
    }
   ],
   "source": [
    "import sys\n",
    "!conda install --yes --prefix {sys.prefix} <ggplot>"
   ]
  },
  {
   "cell_type": "code",
   "execution_count": 18,
   "id": "de198fef",
   "metadata": {},
   "outputs": [
    {
     "ename": "ERROR",
     "evalue": "Error in parse(text = x, srcfile = src): <text>:1:8: unexpected symbol\n1: import sys\n           ^\n",
     "output_type": "error",
     "traceback": [
      "Error in parse(text = x, srcfile = src): <text>:1:8: unexpected symbol\n1: import sys\n           ^\nTraceback:\n"
     ]
    }
   ],
   "source": [
    "import sys"
   ]
  },
  {
   "cell_type": "code",
   "execution_count": 19,
   "id": "61fc41b2",
   "metadata": {},
   "outputs": [],
   "source": [
    "library(boot)"
   ]
  },
  {
   "cell_type": "code",
   "execution_count": 20,
   "id": "83f99c66",
   "metadata": {},
   "outputs": [
    {
     "name": "stderr",
     "output_type": "stream",
     "text": [
      "Registered S3 methods overwritten by 'ggplot2':\n",
      "  method         from \n",
      "  [.quosures     rlang\n",
      "  c.quosures     rlang\n",
      "  print.quosures rlang\n",
      "Registered S3 method overwritten by 'rvest':\n",
      "  method            from\n",
      "  read_xml.response xml2\n",
      "-- Attaching packages --------------------------------------- tidyverse 1.2.1 --\n",
      "v ggplot2 3.1.1       v purrr   0.3.2  \n",
      "v tibble  2.1.1       v dplyr   0.8.0.1\n",
      "v tidyr   0.8.3       v stringr 1.4.0  \n",
      "v readr   1.3.1       v forcats 0.4.0  \n",
      "-- Conflicts ------------------------------------------ tidyverse_conflicts() --\n",
      "x tidyr::extract()   masks magrittr::extract()\n",
      "x dplyr::filter()    masks stats::filter()\n",
      "x dplyr::lag()       masks stats::lag()\n",
      "x purrr::set_names() masks magrittr::set_names()\n"
     ]
    }
   ],
   "source": [
    "library(tidyverse)"
   ]
  },
  {
   "cell_type": "code",
   "execution_count": 21,
   "id": "0a4348cf",
   "metadata": {},
   "outputs": [
    {
     "ename": "ERROR",
     "evalue": "Error in library(ggplot): there is no package called 'ggplot'\n",
     "output_type": "error",
     "traceback": [
      "Error in library(ggplot): there is no package called 'ggplot'\nTraceback:\n",
      "1. library(ggplot)"
     ]
    }
   ],
   "source": [
    "library(ggplot)"
   ]
  },
  {
   "cell_type": "code",
   "execution_count": 22,
   "id": "81755b54",
   "metadata": {},
   "outputs": [
    {
     "ename": "ERROR",
     "evalue": "Error in library(geom): there is no package called 'geom'\n",
     "output_type": "error",
     "traceback": [
      "Error in library(geom): there is no package called 'geom'\nTraceback:\n",
      "1. library(geom)"
     ]
    }
   ],
   "source": [
    "library(geom)"
   ]
  },
  {
   "cell_type": "code",
   "execution_count": 23,
   "id": "26590b09",
   "metadata": {},
   "outputs": [
    {
     "ename": "ERROR",
     "evalue": "Error in search(ggplot): unused argument (ggplot)\n",
     "output_type": "error",
     "traceback": [
      "Error in search(ggplot): unused argument (ggplot)\nTraceback:\n"
     ]
    }
   ],
   "source": [
    "search(ggplot)"
   ]
  },
  {
   "cell_type": "code",
   "execution_count": 24,
   "id": "89a9ec81",
   "metadata": {},
   "outputs": [
    {
     "ename": "ERROR",
     "evalue": "Error in search(tidyverse): unused argument (tidyverse)\n",
     "output_type": "error",
     "traceback": [
      "Error in search(tidyverse): unused argument (tidyverse)\nTraceback:\n"
     ]
    }
   ],
   "source": [
    "search(tidyverse)"
   ]
  },
  {
   "cell_type": "code",
   "execution_count": 25,
   "id": "7038bd1a",
   "metadata": {},
   "outputs": [],
   "source": [
    "library(ggplot2)"
   ]
  },
  {
   "cell_type": "code",
   "execution_count": 27,
   "id": "e3233db7",
   "metadata": {},
   "outputs": [
    {
     "ename": "ERROR",
     "evalue": "Error in ggplot(., aes(x = sex, y = chol)): object 'Heart' not found\n",
     "output_type": "error",
     "traceback": [
      "Error in ggplot(., aes(x = sex, y = chol)): object 'Heart' not found\nTraceback:\n",
      "1. Heart %>% ggplot(aes(x = sex, y = chol))",
      "2. ggplot(., aes(x = sex, y = chol))"
     ]
    }
   ],
   "source": [
    "Heart %>%\n",
    "  ggplot(aes(x=sex, y=chol))+\n",
    "  geom_boxplot(fill ='blue')+\n",
    "  xlab('sex')+\n",
    "  ylab('Chol')+\n",
    "  facet_grid(~cp)"
   ]
  },
  {
   "cell_type": "code",
   "execution_count": 28,
   "id": "5008be27",
   "metadata": {},
   "outputs": [],
   "source": [
    "data <- read.csv(\"heart.csv\")"
   ]
  },
  {
   "cell_type": "code",
   "execution_count": 29,
   "id": "62e25194",
   "metadata": {},
   "outputs": [
    {
     "name": "stdout",
     "output_type": "stream",
     "text": [
      "Observations: 303\n",
      "Variables: 14\n",
      "$ ï..age   <int> 63, 37, 41, 56, 57, 57, 56, 44, 52, 57, 54, 48, 49, 64, 58...\n",
      "$ sex      <int> 1, 1, 0, 1, 0, 1, 0, 1, 1, 1, 1, 0, 1, 1, 0, 0, 0, 0, 1, 0...\n",
      "$ cp       <int> 3, 2, 1, 1, 0, 0, 1, 1, 2, 2, 0, 2, 1, 3, 3, 2, 2, 3, 0, 3...\n",
      "$ trestbps <int> 145, 130, 130, 120, 120, 140, 140, 120, 172, 150, 140, 130...\n",
      "$ chol     <int> 233, 250, 204, 236, 354, 192, 294, 263, 199, 168, 239, 275...\n",
      "$ fbs      <int> 1, 0, 0, 0, 0, 0, 0, 0, 1, 0, 0, 0, 0, 0, 1, 0, 0, 0, 0, 0...\n",
      "$ restecg  <int> 0, 1, 0, 1, 1, 1, 0, 1, 1, 1, 1, 1, 1, 0, 0, 1, 1, 1, 1, 1...\n",
      "$ thalach  <int> 150, 187, 172, 178, 163, 148, 153, 173, 162, 174, 160, 139...\n",
      "$ exang    <int> 0, 0, 0, 0, 1, 0, 0, 0, 0, 0, 0, 0, 0, 1, 0, 0, 0, 0, 0, 0...\n",
      "$ oldpeak  <dbl> 2.3, 3.5, 1.4, 0.8, 0.6, 0.4, 1.3, 0.0, 0.5, 1.6, 1.2, 0.2...\n",
      "$ slope    <int> 0, 0, 2, 2, 2, 1, 1, 2, 2, 2, 2, 2, 2, 1, 2, 1, 2, 0, 2, 2...\n",
      "$ ca       <int> 0, 0, 0, 0, 0, 0, 0, 0, 0, 0, 0, 0, 0, 0, 0, 0, 0, 0, 0, 2...\n",
      "$ thal     <int> 1, 2, 2, 2, 2, 1, 2, 3, 3, 2, 2, 2, 2, 2, 2, 2, 2, 2, 2, 2...\n",
      "$ target   <int> 1, 1, 1, 1, 1, 1, 1, 1, 1, 1, 1, 1, 1, 1, 1, 1, 1, 1, 1, 1...\n"
     ]
    }
   ],
   "source": [
    "glimpse(data)"
   ]
  },
  {
   "cell_type": "code",
   "execution_count": 30,
   "id": "ce400a03",
   "metadata": {},
   "outputs": [
    {
     "ename": "ERROR",
     "evalue": "Error in glimpse(data2): object 'data2' not found\n",
     "output_type": "error",
     "traceback": [
      "Error in glimpse(data2): object 'data2' not found\nTraceback:\n",
      "1. glimpse(data2)"
     ]
    }
   ],
   "source": [
    "glimpse(data2)"
   ]
  },
  {
   "cell_type": "code",
   "execution_count": 31,
   "id": "a0f51098",
   "metadata": {},
   "outputs": [
    {
     "name": "stderr",
     "output_type": "stream",
     "text": [
      "Warning message:\n",
      "\"Continuous x aesthetic -- did you forget aes(group=...)?\""
     ]
    },
    {
     "data": {
      "image/png": "[encoded data removed]",
      "text/plain": [
       "plot without title"
      ]
     },
     "metadata": {},
     "output_type": "display_data"
    }
   ],
   "source": [
    "data %>%\n",
    "  ggplot(aes(x=sex, y=chol))+\n",
    "  geom_boxplot(fill ='blue')+\n",
    "  xlab('sex')+\n",
    "  ylab('Chol')+\n",
    "  facet_grid(~cp)"
   ]
  },
  {
   "cell_type": "code",
   "execution_count": 33,
   "id": "bbd63975",
   "metadata": {},
   "outputs": [
    {
     "name": "stderr",
     "output_type": "stream",
     "text": [
      "Warning message:\n",
      "\"Continuous x aesthetic -- did you forget aes(group=...)?\""
     ]
    },
    {
     "data": {
      "image/png": "[encoded data removed]",
      "text/plain": [
       "plot without title"
      ]
     },
     "metadata": {},
     "output_type": "display_data"
    }
   ],
   "source": [
    "data %>%\n",
    "  ggplot(aes(x=sex, y=trestbps))+\n",
    "  geom_boxplot(fill ='purple')+\n",
    "  xlab('sex')+\n",
    "  ylab('Chol')+\n",
    "  facet_grid(~cp)"
   ]
  },
  {
   "cell_type": "code",
   "execution_count": 34,
   "id": "4a23565f",
   "metadata": {},
   "outputs": [
    {
     "name": "stdout",
     "output_type": "stream",
     "text": [
      "\n",
      "  There is a binary version available but the source version is later:\n",
      "         binary source needs_compilation\n",
      "corrplot   0.88   0.92             FALSE\n",
      "\n"
     ]
    },
    {
     "name": "stderr",
     "output_type": "stream",
     "text": [
      "installing the source package 'corrplot'\n",
      "\n",
      "also installing the dependencies 'isoband', 'rlang'\n",
      "\n"
     ]
    },
    {
     "name": "stdout",
     "output_type": "stream",
     "text": [
      "\n",
      "  There are binary versions available but the source versions are later:\n",
      "        binary source needs_compilation\n",
      "isoband  0.2.4  0.2.5              TRUE\n",
      "rlang   0.4.11  1.0.4              TRUE\n",
      "ggplot2  3.3.3  3.3.6             FALSE\n",
      "\n",
      "  Binaries will be installed\n",
      "package 'isoband' successfully unpacked and MD5 sums checked\n",
      "package 'rlang' successfully unpacked and MD5 sums checked\n"
     ]
    },
    {
     "name": "stderr",
     "output_type": "stream",
     "text": [
      "Warning message:\n",
      "\"cannot remove prior installation of package 'rlang'\"Warning message in file.copy(savedcopy, lib, recursive = TRUE):\n",
      "\"problem copying C:\\Users\\USER\\anaconda3\\envs\\r\\Lib\\R\\library\\00LOCK\\rlang\\libs\\x64\\rlang.dll to C:\\Users\\USER\\anaconda3\\envs\\r\\Lib\\R\\library\\rlang\\libs\\x64\\rlang.dll: Permission denied\"Warning message:\n",
      "\"restored 'rlang'\""
     ]
    },
    {
     "name": "stdout",
     "output_type": "stream",
     "text": [
      "\n",
      "The downloaded binary packages are in\n",
      "\tC:\\Users\\USER\\AppData\\Local\\Temp\\RtmpYvL3Tp\\downloaded_packages\n"
     ]
    },
    {
     "name": "stderr",
     "output_type": "stream",
     "text": [
      "installing the source package 'ggplot2'\n",
      "\n",
      "Warning message in install.packages(\"ggplot2\"):\n",
      "\"installation of package 'ggplot2' had non-zero exit status\""
     ]
    }
   ],
   "source": [
    "install.packages(\"corrplot\")\n",
    "install.packages(\"ggplot2\")"
   ]
  },
  {
   "cell_type": "code",
   "execution_count": 35,
   "id": "2cdefb4e",
   "metadata": {},
   "outputs": [
    {
     "name": "stderr",
     "output_type": "stream",
     "text": [
      "corrplot 0.92 loaded\n"
     ]
    }
   ],
   "source": [
    "library(corrplot)\n",
    "library(ggplot2)"
   ]
  },
  {
   "cell_type": "code",
   "execution_count": 43,
   "id": "d116982c",
   "metadata": {},
   "outputs": [
    {
     "data": {
      "text/html": [
       "<table>\n",
       "<thead><tr><th></th><th scope=col>oldpeak</th><th scope=col>slope</th><th scope=col>ca</th><th scope=col>thal</th><th scope=col>target</th></tr></thead>\n",
       "<tbody>\n",
       "\t<tr><th scope=row>oldpeak</th><td> 1.0000000 </td><td>-0.57753682</td><td> 0.22268232</td><td> 0.2102441 </td><td>-0.4306960 </td></tr>\n",
       "\t<tr><th scope=row>slope</th><td>-0.5775368 </td><td> 1.00000000</td><td>-0.08015521</td><td>-0.1047638 </td><td> 0.3458771 </td></tr>\n",
       "\t<tr><th scope=row>ca</th><td> 0.2226823 </td><td>-0.08015521</td><td> 1.00000000</td><td> 0.1518321 </td><td>-0.3917240 </td></tr>\n",
       "\t<tr><th scope=row>thal</th><td> 0.2102441 </td><td>-0.10476379</td><td> 0.15183213</td><td> 1.0000000 </td><td>-0.3440293 </td></tr>\n",
       "\t<tr><th scope=row>target</th><td>-0.4306960 </td><td> 0.34587708</td><td>-0.39172399</td><td>-0.3440293 </td><td> 1.0000000 </td></tr>\n",
       "</tbody>\n",
       "</table>\n"
      ],
      "text/latex": [
       "\\begin{tabular}{r|lllll}\n",
       "  & oldpeak & slope & ca & thal & target\\\\\n",
       "\\hline\n",
       "\toldpeak &  1.0000000  & -0.57753682 &  0.22268232 &  0.2102441  & -0.4306960 \\\\\n",
       "\tslope & -0.5775368  &  1.00000000 & -0.08015521 & -0.1047638  &  0.3458771 \\\\\n",
       "\tca &  0.2226823  & -0.08015521 &  1.00000000 &  0.1518321  & -0.3917240 \\\\\n",
       "\tthal &  0.2102441  & -0.10476379 &  0.15183213 &  1.0000000  & -0.3440293 \\\\\n",
       "\ttarget & -0.4306960  &  0.34587708 & -0.39172399 & -0.3440293  &  1.0000000 \\\\\n",
       "\\end{tabular}\n"
      ],
      "text/markdown": [
       "\n",
       "| <!--/--> | oldpeak | slope | ca | thal | target |\n",
       "|---|---|---|---|---|---|\n",
       "| oldpeak |  1.0000000  | -0.57753682 |  0.22268232 |  0.2102441  | -0.4306960  |\n",
       "| slope | -0.5775368  |  1.00000000 | -0.08015521 | -0.1047638  |  0.3458771  |\n",
       "| ca |  0.2226823  | -0.08015521 |  1.00000000 |  0.1518321  | -0.3917240  |\n",
       "| thal |  0.2102441  | -0.10476379 |  0.15183213 |  1.0000000  | -0.3440293  |\n",
       "| target | -0.4306960  |  0.34587708 | -0.39172399 | -0.3440293  |  1.0000000  |\n",
       "\n"
      ],
      "text/plain": [
       "        oldpeak    slope       ca          thal       target    \n",
       "oldpeak  1.0000000 -0.57753682  0.22268232  0.2102441 -0.4306960\n",
       "slope   -0.5775368  1.00000000 -0.08015521 -0.1047638  0.3458771\n",
       "ca       0.2226823 -0.08015521  1.00000000  0.1518321 -0.3917240\n",
       "thal     0.2102441 -0.10476379  0.15183213  1.0000000 -0.3440293\n",
       "target  -0.4306960  0.34587708 -0.39172399 -0.3440293  1.0000000"
      ]
     },
     "metadata": {},
     "output_type": "display_data"
    },
    {
     "data": {
      "image/png": "[encoded data removed]",
      "text/plain": [
       "Plot with title \"\""
      ]
     },
     "metadata": {},
     "output_type": "display_data"
    }
   ],
   "source": [
    "cor_heart <- cor(data[, 10:14])\n",
    "cor_heart\n",
    "\n",
    "corrplot(cor_heart, method='circle', type='lower', order='hclust')"
   ]
  },
  {
   "cell_type": "code",
   "execution_count": null,
   "id": "bc099254",
   "metadata": {},
   "outputs": [],
   "source": []
  }
 ],
 "metadata": {
  "kernelspec": {
   "display_name": "R",
   "language": "R",
   "name": "ir"
  },
  "language_info": {
   "codemirror_mode": "r",
   "file_extension": ".r",
   "mimetype": "text/x-r-source",
   "name": "R",
   "pygments_lexer": "r",
   "version": "3.6.1"
  }
 },
 "nbformat": 4,
 "nbformat_minor": 5
}
